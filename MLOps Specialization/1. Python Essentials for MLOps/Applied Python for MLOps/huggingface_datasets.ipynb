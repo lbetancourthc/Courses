{
 "cells": [
  {
   "cell_type": "markdown",
   "id": "b94d5cd0",
   "metadata": {},
   "source": [
    "# HuggingFace Datasets"
   ]
  },
  {
   "cell_type": "markdown",
   "id": "ef67f493",
   "metadata": {},
   "source": [
    "HuggingFace provides the ability to interact with datasets dinamically.  There is not need to pre-download large models and include them in a repository like this one."
   ]
  },
  {
   "cell_type": "code",
   "execution_count": 1,
   "id": "38fef4b2",
   "metadata": {},
   "outputs": [],
   "source": [
    "from datasets import load_dataset\n",
    "from huggingface_hub import list_datasets"
   ]
  },
  {
   "cell_type": "markdown",
   "id": "c998535f",
   "metadata": {},
   "source": [
    "## Explroe available datasets"
   ]
  },
  {
   "cell_type": "code",
   "execution_count": 2,
   "id": "83fbdd12",
   "metadata": {},
   "outputs": [],
   "source": [
    "available = list_datasets()"
   ]
  },
  {
   "cell_type": "code",
   "execution_count": 3,
   "id": "faaa7460",
   "metadata": {},
   "outputs": [
    {
     "data": {
      "text/plain": [
       "DatasetInfo(id='fka/awesome-chatgpt-prompts', author='fka', sha='68ba7694e23014788dcc8ab5afe613824f45a05c', created_at=datetime.datetime(2022, 12, 13, 23, 47, 45, tzinfo=datetime.timezone.utc), last_modified=datetime.datetime(2025, 1, 6, 0, 2, 53, tzinfo=datetime.timezone.utc), private=False, gated=False, disabled=False, downloads=48859, downloads_all_time=None, likes=9130, paperswithcode_id=None, tags=['task_categories:question-answering', 'license:cc0-1.0', 'size_categories:n<1K', 'format:csv', 'modality:text', 'library:datasets', 'library:pandas', 'library:mlcroissant', 'library:polars', 'region:us', 'ChatGPT'], trending_score=62, card_data=None, siblings=None, xet_enabled=None)"
      ]
     },
     "execution_count": 3,
     "metadata": {},
     "output_type": "execute_result"
    }
   ],
   "source": [
    "next(available)"
   ]
  },
  {
   "cell_type": "code",
   "execution_count": 4,
   "id": "bd8d26ba",
   "metadata": {},
   "outputs": [
    {
     "name": "stdout",
     "output_type": "stream",
     "text": [
      "stanfordnlp/imdb\n",
      "jquigl/imdb-genres\n",
      "mirfan899/imdb_urdu_reviews\n",
      "Lucylulu/imdb\n",
      "Recognai/imdb_spacy-ner\n",
      "SetFit/imdb\n"
     ]
    }
   ],
   "source": [
    "for i, ds in enumerate(list_datasets(search=\"imdb\")):\n",
    "    print(ds.id)\n",
    "    if i == 5:\n",
    "        break"
   ]
  },
  {
   "cell_type": "markdown",
   "id": "e2c4df6c",
   "metadata": {},
   "source": [
    "## Load datasets dynamically passing the name"
   ]
  },
  {
   "cell_type": "code",
   "execution_count": 5,
   "id": "e2fb4f80",
   "metadata": {},
   "outputs": [
    {
     "name": "stderr",
     "output_type": "stream",
     "text": [
      "/home/landneyker/.local/lib/python3.10/site-packages/datasets/load.py:1486: FutureWarning: The repository for movie_rationales contains custom code which must be executed to correctly load the dataset. You can inspect the repository content at https://hf.co/datasets/movie_rationales\n",
      "You can avoid this message in future by passing the argument `trust_remote_code=True`.\n",
      "Passing `trust_remote_code=True` will be mandatory to load this dataset from the next major release of `datasets`.\n",
      "  warnings.warn(\n"
     ]
    }
   ],
   "source": [
    "movie_rationales = load_dataset(\"movie_rationales\")"
   ]
  },
  {
   "cell_type": "code",
   "execution_count": 6,
   "id": "20d0b16b",
   "metadata": {},
   "outputs": [
    {
     "data": {
      "text/plain": [
       "DatasetDict({\n",
       "    train: Dataset({\n",
       "        features: ['review', 'label', 'evidences'],\n",
       "        num_rows: 1600\n",
       "    })\n",
       "    validation: Dataset({\n",
       "        features: ['review', 'label', 'evidences'],\n",
       "        num_rows: 200\n",
       "    })\n",
       "    test: Dataset({\n",
       "        features: ['review', 'label', 'evidences'],\n",
       "        num_rows: 199\n",
       "    })\n",
       "})"
      ]
     },
     "execution_count": 6,
     "metadata": {},
     "output_type": "execute_result"
    }
   ],
   "source": [
    "movie_rationales"
   ]
  },
  {
   "cell_type": "markdown",
   "id": "37a8a0a0",
   "metadata": {},
   "source": [
    "Checking train split:"
   ]
  },
  {
   "cell_type": "code",
   "execution_count": 7,
   "id": "31a24309",
   "metadata": {},
   "outputs": [],
   "source": [
    "train = movie_rationales[\"train\"]"
   ]
  },
  {
   "cell_type": "code",
   "execution_count": 8,
   "id": "5213caf9",
   "metadata": {},
   "outputs": [
    {
     "data": {
      "text/plain": [
       "Dataset({\n",
       "    features: ['review', 'label', 'evidences'],\n",
       "    num_rows: 1600\n",
       "})"
      ]
     },
     "execution_count": 8,
     "metadata": {},
     "output_type": "execute_result"
    }
   ],
   "source": [
    "train"
   ]
  },
  {
   "cell_type": "markdown",
   "id": "07446192",
   "metadata": {},
   "source": [
    "## Train dataset to Pandas"
   ]
  },
  {
   "cell_type": "code",
   "execution_count": 9,
   "id": "74a1a8a6",
   "metadata": {},
   "outputs": [],
   "source": [
    "df = train.to_pandas()"
   ]
  },
  {
   "cell_type": "code",
   "execution_count": 11,
   "id": "449f5ca1",
   "metadata": {},
   "outputs": [
    {
     "data": {
      "text/html": [
       "<div>\n",
       "<style scoped>\n",
       "    .dataframe tbody tr th:only-of-type {\n",
       "        vertical-align: middle;\n",
       "    }\n",
       "\n",
       "    .dataframe tbody tr th {\n",
       "        vertical-align: top;\n",
       "    }\n",
       "\n",
       "    .dataframe thead th {\n",
       "        text-align: right;\n",
       "    }\n",
       "</style>\n",
       "<table border=\"1\" class=\"dataframe\">\n",
       "  <thead>\n",
       "    <tr style=\"text-align: right;\">\n",
       "      <th></th>\n",
       "      <th>review</th>\n",
       "      <th>label</th>\n",
       "      <th>evidences</th>\n",
       "    </tr>\n",
       "  </thead>\n",
       "  <tbody>\n",
       "    <tr>\n",
       "      <th>0</th>\n",
       "      <td>plot : two teen couples go to a church party ,...</td>\n",
       "      <td>0</td>\n",
       "      <td>[mind - fuck movie, the sad part is, downshift...</td>\n",
       "    </tr>\n",
       "    <tr>\n",
       "      <th>1</th>\n",
       "      <td>the happy bastard 's quick movie review damn\\n...</td>\n",
       "      <td>0</td>\n",
       "      <td>[it 's pretty much a sunken ship, sutherland i...</td>\n",
       "    </tr>\n",
       "    <tr>\n",
       "      <th>2</th>\n",
       "      <td>it is movies like these that make a jaded movi...</td>\n",
       "      <td>0</td>\n",
       "      <td>[the characters and acting is nothing spectacu...</td>\n",
       "    </tr>\n",
       "    <tr>\n",
       "      <th>3</th>\n",
       "      <td>\" quest for camelot \" is warner bros . '\\nfirs...</td>\n",
       "      <td>0</td>\n",
       "      <td>[dead on arrival, the characters stink, subpar...</td>\n",
       "    </tr>\n",
       "    <tr>\n",
       "      <th>4</th>\n",
       "      <td>synopsis : a mentally unstable man undergoing ...</td>\n",
       "      <td>0</td>\n",
       "      <td>[it is highly derivative and somewhat boring, ...</td>\n",
       "    </tr>\n",
       "  </tbody>\n",
       "</table>\n",
       "</div>"
      ],
      "text/plain": [
       "                                              review  label  \\\n",
       "0  plot : two teen couples go to a church party ,...      0   \n",
       "1  the happy bastard 's quick movie review damn\\n...      0   \n",
       "2  it is movies like these that make a jaded movi...      0   \n",
       "3  \" quest for camelot \" is warner bros . '\\nfirs...      0   \n",
       "4  synopsis : a mentally unstable man undergoing ...      0   \n",
       "\n",
       "                                           evidences  \n",
       "0  [mind - fuck movie, the sad part is, downshift...  \n",
       "1  [it 's pretty much a sunken ship, sutherland i...  \n",
       "2  [the characters and acting is nothing spectacu...  \n",
       "3  [dead on arrival, the characters stink, subpar...  \n",
       "4  [it is highly derivative and somewhat boring, ...  "
      ]
     },
     "execution_count": 11,
     "metadata": {},
     "output_type": "execute_result"
    }
   ],
   "source": [
    "df.head()"
   ]
  },
  {
   "cell_type": "code",
   "execution_count": 12,
   "id": "1b04bf90",
   "metadata": {},
   "outputs": [
    {
     "data": {
      "text/html": [
       "<div>\n",
       "<style scoped>\n",
       "    .dataframe tbody tr th:only-of-type {\n",
       "        vertical-align: middle;\n",
       "    }\n",
       "\n",
       "    .dataframe tbody tr th {\n",
       "        vertical-align: top;\n",
       "    }\n",
       "\n",
       "    .dataframe thead th {\n",
       "        text-align: right;\n",
       "    }\n",
       "</style>\n",
       "<table border=\"1\" class=\"dataframe\">\n",
       "  <thead>\n",
       "    <tr style=\"text-align: right;\">\n",
       "      <th></th>\n",
       "      <th>label</th>\n",
       "    </tr>\n",
       "  </thead>\n",
       "  <tbody>\n",
       "    <tr>\n",
       "      <th>count</th>\n",
       "      <td>1600.000000</td>\n",
       "    </tr>\n",
       "    <tr>\n",
       "      <th>mean</th>\n",
       "      <td>0.500000</td>\n",
       "    </tr>\n",
       "    <tr>\n",
       "      <th>std</th>\n",
       "      <td>0.500156</td>\n",
       "    </tr>\n",
       "    <tr>\n",
       "      <th>min</th>\n",
       "      <td>0.000000</td>\n",
       "    </tr>\n",
       "    <tr>\n",
       "      <th>25%</th>\n",
       "      <td>0.000000</td>\n",
       "    </tr>\n",
       "    <tr>\n",
       "      <th>50%</th>\n",
       "      <td>0.500000</td>\n",
       "    </tr>\n",
       "    <tr>\n",
       "      <th>75%</th>\n",
       "      <td>1.000000</td>\n",
       "    </tr>\n",
       "    <tr>\n",
       "      <th>max</th>\n",
       "      <td>1.000000</td>\n",
       "    </tr>\n",
       "  </tbody>\n",
       "</table>\n",
       "</div>"
      ],
      "text/plain": [
       "             label\n",
       "count  1600.000000\n",
       "mean      0.500000\n",
       "std       0.500156\n",
       "min       0.000000\n",
       "25%       0.000000\n",
       "50%       0.500000\n",
       "75%       1.000000\n",
       "max       1.000000"
      ]
     },
     "execution_count": 12,
     "metadata": {},
     "output_type": "execute_result"
    }
   ],
   "source": [
    "df.describe()"
   ]
  }
 ],
 "metadata": {
  "kernelspec": {
   "display_name": "Python 3",
   "language": "python",
   "name": "python3"
  },
  "language_info": {
   "codemirror_mode": {
    "name": "ipython",
    "version": 3
   },
   "file_extension": ".py",
   "mimetype": "text/x-python",
   "name": "python",
   "nbconvert_exporter": "python",
   "pygments_lexer": "ipython3",
   "version": "3.10.12"
  }
 },
 "nbformat": 4,
 "nbformat_minor": 5
}
