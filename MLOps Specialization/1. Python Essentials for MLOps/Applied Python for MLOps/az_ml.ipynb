{
 "cells": [
  {
   "cell_type": "markdown",
   "id": "2fd4a160",
   "metadata": {},
   "source": [
    "# Azure ML Studio"
   ]
  },
  {
   "cell_type": "code",
   "execution_count": 1,
   "id": "e4176898",
   "metadata": {},
   "outputs": [],
   "source": [
    "import azureml"
   ]
  },
  {
   "cell_type": "code",
   "execution_count": 2,
   "id": "d38eb15d",
   "metadata": {},
   "outputs": [
    {
     "name": "stdout",
     "output_type": "stream",
     "text": [
      "<module 'azureml' from '/home/landneyker/.local/lib/python3.10/site-packages/azureml/__init__.py'>\n"
     ]
    }
   ],
   "source": [
    "print(azureml)"
   ]
  },
  {
   "cell_type": "markdown",
   "id": "b13f78e1",
   "metadata": {},
   "source": [
    "## Try Azure ML Studio"
   ]
  },
  {
   "cell_type": "markdown",
   "id": "201b40b8",
   "metadata": {},
   "source": [
    "Setup infrastructure on Azure ML and authenticate using a Service Principal.\n",
    "\n",
    "Make sure you have enabled the following `GitHub` repository secrets:\n",
    "\n",
    "* `SUBSCRIPTION_ID`\n",
    "* `AZURE_SERVICE_PRINCIPAL_TENANT`\n",
    "* `AZURE_SERVICE_PRINCIPAL_APPID`\n",
    "* `AZURE_SERVICE_PRINCIPAL_PASSWORD`\n",
    "\n",
    "Optionally, you can add the follwoing items to use a specific resource group, region, or existing workspace:\n",
    "\n",
    "* `WORKSPACE_REGION`\n",
    "* `RESOURCE_GROUP`\n",
    "* `WORKSPACE_NAME`\n",
    "\n",
    "These are retrieved and set from the next cell:"
   ]
  },
  {
   "cell_type": "code",
   "execution_count": 3,
   "id": "a6267708",
   "metadata": {},
   "outputs": [],
   "source": [
    "import os\n",
    "\n",
    "# Required\n",
    "subscription_id = \"c7e556ec-4205-4971-92cd-fa461be6cf67\"\n",
    "tenant_id = \"577fc1d8-0922-458e-87bf-ec4f455eb600\"\n",
    "resource_group = \"az-ml\"\n",
    "workspace_name = \"demo-azure-ml\"\n",
    "workspace_region = \"brazilsouth\""
   ]
  },
  {
   "cell_type": "code",
   "execution_count": 4,
   "id": "38844c05",
   "metadata": {},
   "outputs": [
    {
     "name": "stderr",
     "output_type": "stream",
     "text": [
      "/usr/lib/python3/dist-packages/paramiko/transport.py:237: CryptographyDeprecationWarning: Blowfish has been deprecated\n",
      "  \"class\": algorithms.Blowfish,\n",
      "Warning: Falling back to use azure cli login credentials.\n",
      "If you run your code in unattended mode, i.e., where you can't give a user input, then we recommend to use ServicePrincipalAuthentication or MsiAuthentication.\n",
      "Please refer to aka.ms/aml-notebook-auth for different authentication mechanisms in azureml-sdk.\n"
     ]
    },
    {
     "name": "stdout",
     "output_type": "stream",
     "text": [
      "Workspace configuration succeeded.\n"
     ]
    }
   ],
   "source": [
    "from azureml.core import Workspace\n",
    "\n",
    "try:\n",
    "    ws = Workspace(subscription_id=subscription_id, resource_group=resource_group, workspace_name=workspace_name)\n",
    "    # Write the details of the workspace to a configuration file to the notebook library\n",
    "    ws.write_config()\n",
    "    print(\"Workspace configuration succeeded.\")\n",
    "except Exception:\n",
    "    print(\"Workspace not accesible. Ensure that Codespaces secrets are available.\")\n",
    "    raise\n"
   ]
  },
  {
   "cell_type": "code",
   "execution_count": 5,
   "id": "5c89e991",
   "metadata": {},
   "outputs": [
    {
     "name": "stdout",
     "output_type": "stream",
     "text": [
      "InProgress......\n",
      "SucceededProvisioning operation finished, operation \"Succeeded\"\n",
      "Succeeded\n",
      "AmlCompute wait for completion finished\n",
      "\n",
      "Minimum number of nodes requested have been provisioned\n"
     ]
    }
   ],
   "source": [
    "from azureml.core.compute import ComputeTarget, AmlCompute\n",
    "\n",
    "# Define aml compute targets to create\n",
    "aml_computes = {\n",
    "    \"cpu-cluster\": {\n",
    "        \"vm_size\": \"STANDARD_DS3_V2\",\n",
    "        \"min_nodes\": 0,\n",
    "        \"max_nodes\": 3,\n",
    "        \"idle_seconds_before_scaledown\": 240\n",
    "    }\n",
    "}\n",
    "\n",
    "# Create aml compute targets\n",
    "for ct_name in aml_computes:\n",
    "    if ct_name not in ws.compute_targets:\n",
    "        compute_config = AmlCompute.provisioning_configuration(**aml_computes[ct_name])\n",
    "        ct = ComputeTarget.create(ws, ct_name, compute_config)\n",
    "        ct.wait_for_completion(show_output=True)"
   ]
  },
  {
   "cell_type": "markdown",
   "id": "3c37ff99",
   "metadata": {},
   "source": [
    "## Perform exploratory work"
   ]
  },
  {
   "cell_type": "markdown",
   "id": "0b78a5f8",
   "metadata": {},
   "source": [
    "Interacting with Azure ML Studio Workspace, like train models, register datasets and models, or create AutoML run:"
   ]
  },
  {
   "cell_type": "code",
   "execution_count": 6,
   "id": "d742b9fb",
   "metadata": {},
   "outputs": [],
   "source": [
    "# Exploratory work"
   ]
  },
  {
   "cell_type": "markdown",
   "id": "37a01567",
   "metadata": {},
   "source": [
    "## Destroy workspace and resources"
   ]
  },
  {
   "cell_type": "code",
   "execution_count": null,
   "id": "a79fb1fa",
   "metadata": {},
   "outputs": [],
   "source": [
    "# Destroy work\n",
    "# ws.delete(delete_dependent_resources=True, no_wait=False)"
   ]
  },
  {
   "cell_type": "markdown",
   "id": "11b26d65",
   "metadata": {},
   "source": []
  }
 ],
 "metadata": {
  "kernelspec": {
   "display_name": "Python 3",
   "language": "python",
   "name": "python3"
  },
  "language_info": {
   "codemirror_mode": {
    "name": "ipython",
    "version": 3
   },
   "file_extension": ".py",
   "mimetype": "text/x-python",
   "name": "python",
   "nbconvert_exporter": "python",
   "pygments_lexer": "ipython3",
   "version": "3.10.12"
  }
 },
 "nbformat": 4,
 "nbformat_minor": 5
}
