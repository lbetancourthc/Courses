{
 "cells": [
  {
   "cell_type": "markdown",
   "id": "c14899a6",
   "metadata": {},
   "source": [
    "## Introduction to Pandas\n",
    "\n",
    "Pandas is one of the most popular choices to load, visualize, clean, and apply statistical techniques to data. It is specially useful in Jupyter Notebooks as it lends itself to iterative exploration with cells."
   ]
  },
  {
   "cell_type": "markdown",
   "id": "44216298",
   "metadata": {},
   "source": [
    "### Installation\n",
    "\n",
    "As always, use a virtual environment (or similar) to install pandas and its dependencies:\n",
    "\n",
    "```bash]\n",
    "$ python3 -m venv venv\n",
    "$ source venv/bin/activate\n",
    "```\n",
    "\n",
    "The example above should work for Linux and OSX, but there is support for Windows systems as well. [Follow the documentation if you need help](https://docs.python.org/3/library/venv.html).\n",
    "\n",
    "The package to install is `pandas`"
   ]
  },
  {
   "cell_type": "code",
   "execution_count": null,
   "id": "a91e2e10",
   "metadata": {},
   "outputs": [],
   "source": [
    "!pip install pandas"
   ]
  },
  {
   "cell_type": "markdown",
   "id": "3fd9cf4e",
   "metadata": {},
   "source": [
    "### Common operations in Pandas\n",
    "\n",
    "After installing, you will almost always see Pandas imported with an alias. This an other common practices in pandas are covered in this section."
   ]
  },
  {
   "cell_type": "code",
   "execution_count": 1,
   "id": "2db6235c",
   "metadata": {},
   "outputs": [
    {
     "name": "stdout",
     "output_type": "stream",
     "text": [
      "           apples  bananas  oranges\n",
      "Monday          4        2        1\n",
      "Tuesday         3        0        1\n",
      "Wednesday       1        0        0\n"
     ]
    }
   ],
   "source": [
    "import pandas as pd\n",
    "\n",
    "#list of lists\n",
    "data = [[4, 2, 1],\n",
    "        [3, 0, 1],\n",
    "        [1, 0, 0]]\n",
    "\n",
    "\n",
    "columns = ['apples', 'bananas', 'oranges']\n",
    "index = ['Monday', 'Tuesday', 'Wednesday']\n",
    "\n",
    "df = pd.DataFrame(data, index, columns)\n",
    "print(df)"
   ]
  }
 ],
 "metadata": {
  "kernelspec": {
   "display_name": "Python 3",
   "language": "python",
   "name": "python3"
  },
  "language_info": {
   "codemirror_mode": {
    "name": "ipython",
    "version": 3
   },
   "file_extension": ".py",
   "mimetype": "text/x-python",
   "name": "python",
   "nbconvert_exporter": "python",
   "pygments_lexer": "ipython3",
   "version": "3.10.12"
  }
 },
 "nbformat": 4,
 "nbformat_minor": 5
}
