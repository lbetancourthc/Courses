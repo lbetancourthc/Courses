{
 "cells": [
  {
   "cell_type": "markdown",
   "id": "44de4af8",
   "metadata": {},
   "source": [
    "# More array operations"
   ]
  },
  {
   "cell_type": "code",
   "execution_count": 1,
   "id": "06ab1019",
   "metadata": {},
   "outputs": [],
   "source": [
    "import numpy as np"
   ]
  },
  {
   "cell_type": "markdown",
   "id": "d5359e22",
   "metadata": {},
   "source": [
    "## Expanding arrays"
   ]
  },
  {
   "cell_type": "code",
   "execution_count": 2,
   "id": "fffd512a",
   "metadata": {},
   "outputs": [
    {
     "name": "stdout",
     "output_type": "stream",
     "text": [
      "[1. 1. 1. 1.]\n",
      "(4,)\n"
     ]
    },
    {
     "data": {
      "text/plain": [
       "(1, 4)"
      ]
     },
     "execution_count": 2,
     "metadata": {},
     "output_type": "execute_result"
    }
   ],
   "source": [
    "# create a single dimension array\n",
    "array = np.ones((4,))\n",
    "print(array)\n",
    "print(array.shape)\n",
    "\n",
    "# expand one row\n",
    "expanded = array[np.newaxis, :]\n",
    "expanded.shape"
   ]
  },
  {
   "cell_type": "markdown",
   "id": "c9025b8f",
   "metadata": {},
   "source": [
    "## Conditional new arrays"
   ]
  },
  {
   "cell_type": "code",
   "execution_count": 3,
   "id": "8d5b0b4c",
   "metadata": {},
   "outputs": [
    {
     "name": "stdout",
     "output_type": "stream",
     "text": [
      "[[ True  True  True]\n",
      " [False False  True]\n",
      " [False  True False]]\n"
     ]
    }
   ],
   "source": [
    "array = np.array([[3,12,11],[45,22,11],[56,15,22]])\n",
    "# represent all matching conditions\n",
    "print(array < 20)"
   ]
  },
  {
   "cell_type": "code",
   "execution_count": 4,
   "id": "93fb826c",
   "metadata": {},
   "outputs": [
    {
     "data": {
      "text/plain": [
       "array([ 3, 12, 11, 11, 15])"
      ]
     },
     "execution_count": 4,
     "metadata": {},
     "output_type": "execute_result"
    }
   ],
   "source": [
    "# produce all matching values\n",
    "array[array < 20]"
   ]
  },
  {
   "cell_type": "markdown",
   "id": "db410688",
   "metadata": {},
   "source": [
    "## Slicing\n",
    "\n",
    "Similar to Python lists, but with more features and capabilities"
   ]
  },
  {
   "cell_type": "code",
   "execution_count": 5,
   "id": "aacbe562",
   "metadata": {},
   "outputs": [
    {
     "data": {
      "text/plain": [
       "array([0, 1, 2, 3, 4, 5])"
      ]
     },
     "execution_count": 5,
     "metadata": {},
     "output_type": "execute_result"
    }
   ],
   "source": [
    "a = np.arange(6)\n",
    "a"
   ]
  },
  {
   "cell_type": "code",
   "execution_count": 6,
   "id": "53a5c5f6",
   "metadata": {},
   "outputs": [
    {
     "data": {
      "text/plain": [
       "array([1, 2, 3])"
      ]
     },
     "execution_count": 6,
     "metadata": {},
     "output_type": "execute_result"
    }
   ],
   "source": [
    "# give a range\n",
    "a[1:4]"
   ]
  },
  {
   "cell_type": "markdown",
   "id": "1695f1c2",
   "metadata": {},
   "source": [
    "## Stacking"
   ]
  },
  {
   "cell_type": "code",
   "execution_count": 7,
   "id": "ab1c1b39",
   "metadata": {},
   "outputs": [
    {
     "name": "stdout",
     "output_type": "stream",
     "text": [
      "[[2 2 2 2 2 2 2 2 2 2 2 2]\n",
      " [2 2 2 2 2 2 2 2 2 2 2 2]]\n",
      "[[2 2 2 2 2 2 2]\n",
      " [2 2 2 2 2 2 2]]\n"
     ]
    },
    {
     "data": {
      "text/plain": [
       "array([[2, 2, 2, 2, 2, 2, 2, 2, 2, 2, 2, 2, 2, 2, 2, 2, 2, 2, 2],\n",
       "       [2, 2, 2, 2, 2, 2, 2, 2, 2, 2, 2, 2, 2, 2, 2, 2, 2, 2, 2]])"
      ]
     },
     "execution_count": 7,
     "metadata": {},
     "output_type": "execute_result"
    }
   ],
   "source": [
    "# horizontally\n",
    "# must have same number of dimensions!\n",
    "first = np.full((2, 12), 2)\n",
    "print(first)\n",
    "second = np.full((2, 7), 2)\n",
    "print(second)\n",
    "np.hstack((first, second))"
   ]
  },
  {
   "cell_type": "code",
   "execution_count": 8,
   "id": "aed0dbb4",
   "metadata": {},
   "outputs": [
    {
     "name": "stdout",
     "output_type": "stream",
     "text": [
      "[[1 1 1]\n",
      " [1 1 1]\n",
      " [1 1 1]]\n",
      "[[2 2 2]\n",
      " [2 2 2]\n",
      " [2 2 2]]\n"
     ]
    },
    {
     "data": {
      "text/plain": [
       "array([[1, 1, 1],\n",
       "       [1, 1, 1],\n",
       "       [1, 1, 1],\n",
       "       [2, 2, 2],\n",
       "       [2, 2, 2],\n",
       "       [2, 2, 2]])"
      ]
     },
     "execution_count": 8,
     "metadata": {},
     "output_type": "execute_result"
    }
   ],
   "source": [
    "# stacking vertically\n",
    "first = np.full((3,3), 1)\n",
    "print(first)\n",
    "second = np.full((3,3), 2)\n",
    "print(second)\n",
    "np.vstack((first, second))\n"
   ]
  },
  {
   "cell_type": "markdown",
   "id": "37704829",
   "metadata": {},
   "source": [
    "## Splitting arrays"
   ]
  },
  {
   "cell_type": "code",
   "execution_count": 9,
   "id": "fbf2551f",
   "metadata": {},
   "outputs": [
    {
     "data": {
      "text/plain": [
       "array([ 1,  2,  3,  4,  5,  6,  7,  8,  9, 10])"
      ]
     },
     "execution_count": 9,
     "metadata": {},
     "output_type": "execute_result"
    }
   ],
   "source": [
    "array = np.arange(1, 11)\n",
    "array"
   ]
  },
  {
   "cell_type": "code",
   "execution_count": 10,
   "id": "6bc94a87",
   "metadata": {},
   "outputs": [
    {
     "data": {
      "text/plain": [
       "[array([1, 2, 3, 4, 5]), array([ 6,  7,  8,  9, 10])]"
      ]
     },
     "execution_count": 10,
     "metadata": {},
     "output_type": "execute_result"
    }
   ],
   "source": [
    "# split into two equal parts\n",
    "# warning it needs to allow for an equal division!\n",
    "np.hsplit(array, 2)"
   ]
  },
  {
   "cell_type": "code",
   "execution_count": 11,
   "id": "70ebb948",
   "metadata": {},
   "outputs": [
    {
     "name": "stdout",
     "output_type": "stream",
     "text": [
      "[1 2 3 4 5]\n",
      "[ 6  7  8  9 10]\n"
     ]
    }
   ],
   "source": [
    "# this allows for \"unpacking\"\n",
    "first, second = np.hsplit(array, 2)\n",
    "print(first)\n",
    "print(second)"
   ]
  }
 ],
 "metadata": {
  "kernelspec": {
   "display_name": "Python 3",
   "language": "python",
   "name": "python3"
  },
  "language_info": {
   "codemirror_mode": {
    "name": "ipython",
    "version": 3
   },
   "file_extension": ".py",
   "mimetype": "text/x-python",
   "name": "python",
   "nbconvert_exporter": "python",
   "pygments_lexer": "ipython3",
   "version": "3.10.12"
  }
 },
 "nbformat": 4,
 "nbformat_minor": 5
}
