{
 "cells": [
  {
   "cell_type": "markdown",
   "id": "7f819aaf",
   "metadata": {},
   "source": [
    "# Introduction to NumPy arrays\n",
    "NumPy (Numerical Python) is an essential library for working with dimensional arrays (matrices and vectors). Because NumPy has optimizations it is usually much faster than working with Python when processing data.\n",
    "\n",
    "With an activated virtual environment, install the library:\n",
    "\n",
    "```\n",
    "$ pip install numpy\n",
    "```"
   ]
  },
  {
   "cell_type": "code",
   "execution_count": 1,
   "id": "9db3fbd3",
   "metadata": {},
   "outputs": [],
   "source": [
    "import numpy as np"
   ]
  },
  {
   "cell_type": "markdown",
   "id": "afe9f587",
   "metadata": {},
   "source": [
    "Arrays are homogenous, that is, its items must be of the same type (unlike a Python list)"
   ]
  },
  {
   "cell_type": "markdown",
   "id": "1208d07f",
   "metadata": {},
   "source": [
    "## Create arrays with lists"
   ]
  },
  {
   "cell_type": "code",
   "execution_count": 2,
   "id": "26112e22",
   "metadata": {},
   "outputs": [
    {
     "data": {
      "text/plain": [
       "array([1, 2, 3, 4, 5])"
      ]
     },
     "execution_count": 2,
     "metadata": {},
     "output_type": "execute_result"
    }
   ],
   "source": [
    "# single dimension arrays\n",
    "\n",
    "array = np.array([1,2,3,4,5])\n",
    "array"
   ]
  },
  {
   "cell_type": "code",
   "execution_count": 3,
   "id": "9e12096d",
   "metadata": {},
   "outputs": [
    {
     "name": "stdout",
     "output_type": "stream",
     "text": [
      "(2, 2)\n"
     ]
    },
    {
     "data": {
      "text/plain": [
       "array([[1, 2],\n",
       "       [2, 2]])"
      ]
     },
     "execution_count": 3,
     "metadata": {},
     "output_type": "execute_result"
    }
   ],
   "source": [
    "# two dimensions\n",
    "\n",
    "array = np.array([[1,2],[2,2]])\n",
    "print(array.shape)\n",
    "array"
   ]
  },
  {
   "cell_type": "markdown",
   "id": "d637a09a",
   "metadata": {},
   "source": [
    "## Create arrays with built-in functions"
   ]
  },
  {
   "cell_type": "code",
   "execution_count": 4,
   "id": "6124072e",
   "metadata": {},
   "outputs": [
    {
     "data": {
      "text/plain": [
       "array([[0.18698677, 0.21480669],\n",
       "       [0.83624419, 0.37739914]])"
      ]
     },
     "execution_count": 4,
     "metadata": {},
     "output_type": "execute_result"
    }
   ],
   "source": [
    "# 2x2 array with random floats of 0 to 1\n",
    "np.random.rand(2,2)"
   ]
  },
  {
   "cell_type": "code",
   "execution_count": 5,
   "id": "d5afb435",
   "metadata": {},
   "outputs": [
    {
     "data": {
      "text/plain": [
       "array([[8, 8, 8, 8],\n",
       "       [8, 8, 8, 8],\n",
       "       [8, 8, 8, 8]])"
      ]
     },
     "execution_count": 5,
     "metadata": {},
     "output_type": "execute_result"
    }
   ],
   "source": [
    "# fill out the 3x4 array with the number 7\n",
    "np.full((3,4), 8)"
   ]
  },
  {
   "cell_type": "code",
   "execution_count": 6,
   "id": "32f4e562",
   "metadata": {},
   "outputs": [
    {
     "data": {
      "text/plain": [
       "array([[1., 1., 1., 1.],\n",
       "       [1., 1., 1., 1.],\n",
       "       [1., 1., 1., 1.],\n",
       "       [1., 1., 1., 1.]])"
      ]
     },
     "execution_count": 6,
     "metadata": {},
     "output_type": "execute_result"
    }
   ],
   "source": [
    "# using the number 1 is so common that `ones` is a function!\n",
    "np.ones((4,4))"
   ]
  },
  {
   "cell_type": "code",
   "execution_count": 7,
   "id": "3e6a2e7c",
   "metadata": {},
   "outputs": [
    {
     "data": {
      "text/plain": [
       "array([0, 1, 2, 3, 4])"
      ]
     },
     "execution_count": 7,
     "metadata": {},
     "output_type": "execute_result"
    }
   ],
   "source": [
    "# a simple sequence from 0 to 4\n",
    "np.arange(0,5)"
   ]
  },
  {
   "cell_type": "code",
   "execution_count": 8,
   "id": "7f28b2db",
   "metadata": {},
   "outputs": [
    {
     "data": {
      "text/plain": [
       "array([ 0,  3,  6,  9, 12, 15, 18, 21, 24])"
      ]
     },
     "execution_count": 8,
     "metadata": {},
     "output_type": "execute_result"
    }
   ],
   "source": [
    "# a sequence with three steps from 0 to 27\n",
    "np.arange(0, 27, 3)"
   ]
  }
 ],
 "metadata": {
  "kernelspec": {
   "display_name": "Python 3",
   "language": "python",
   "name": "python3"
  },
  "language_info": {
   "codemirror_mode": {
    "name": "ipython",
    "version": 3
   },
   "file_extension": ".py",
   "mimetype": "text/x-python",
   "name": "python",
   "nbconvert_exporter": "python",
   "pygments_lexer": "ipython3",
   "version": "3.10.12"
  }
 },
 "nbformat": 4,
 "nbformat_minor": 5
}
