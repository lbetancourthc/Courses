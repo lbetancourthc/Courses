{
 "cells": [
  {
   "cell_type": "markdown",
   "id": "2ba1f7f1",
   "metadata": {},
   "source": [
    "# Testing in Python"
   ]
  },
  {
   "cell_type": "markdown",
   "id": "a4640d3b",
   "metadata": {},
   "source": [
    "**Why test at all?**\n",
    "\n",
    "If it does not work , who do we blame? The customer?\n",
    "\n",
    "If you are releasing software, do you wait until a user finds a problem? The idea of testing is primarily to increase *confidence*.\n",
    "\n",
    "Software tends to grow, dependencies change, and almos all engineers will forget about some crucial part of their product at some point. If you are making sure that a change is doing what is supposed to be doing, imagine having 30 steps to verify it all works.\n",
    "\n",
    "You will miss a step if you need 30 steps to verify everything works.\n"
   ]
  },
  {
   "cell_type": "markdown",
   "id": "a9dbd6d2",
   "metadata": {},
   "source": [
    "## Python's `unittest`:"
   ]
  },
  {
   "cell_type": "markdown",
   "id": "1b0a48fb",
   "metadata": {},
   "source": [
    "What does the standard library has to offer? And how does it look to write tests in it?"
   ]
  },
  {
   "cell_type": "code",
   "execution_count": 1,
   "id": "d8e4380d",
   "metadata": {},
   "outputs": [
    {
     "name": "stderr",
     "output_type": "stream",
     "text": [
      "test_assertion (__main__.TestExample) ... /tmp/ipykernel_35649/1906245976.py:6: DeprecationWarning: Please use assertEqual instead.\n",
      "  self.assertEquals(\"some string\", \"some other\")\n",
      "FAIL\n",
      "\n",
      "======================================================================\n",
      "FAIL: test_assertion (__main__.TestExample)\n",
      "----------------------------------------------------------------------\n",
      "Traceback (most recent call last):\n",
      "  File \"/tmp/ipykernel_35649/1906245976.py\", line 6, in test_assertion\n",
      "    self.assertEquals(\"some string\", \"some other\")\n",
      "AssertionError: 'some string' != 'some other'\n",
      "- some string\n",
      "+ some other\n",
      "\n",
      "\n",
      "----------------------------------------------------------------------\n",
      "Ran 1 test in 0.002s\n",
      "\n",
      "FAILED (failures=1)\n"
     ]
    },
    {
     "data": {
      "text/plain": [
       "<unittest.main.TestProgram at 0x7a84427457b0>"
      ]
     },
     "execution_count": 1,
     "metadata": {},
     "output_type": "execute_result"
    }
   ],
   "source": [
    "import unittest\n",
    "\n",
    "class TestExample(unittest.TestCase):\n",
    "\n",
    "    def test_assertion(self):\n",
    "        self.assertEquals(\"some string\", \"some other\")\n",
    "\n",
    "unittest.main(argv=[''], verbosity=2, exit=False)"
   ]
  },
  {
   "cell_type": "markdown",
   "id": "0fb808a3",
   "metadata": {},
   "source": [
    "## How do you feel aboutlearning test methods from `unittest`?"
   ]
  },
  {
   "cell_type": "markdown",
   "id": "7113add9",
   "metadata": {},
   "source": [
    "* `self.assertEqual(a, b)`\n",
    "* `self.assertNotEqual(a, b)`\n",
    "* `self.assert.True(x)`\n",
    "* `self.assert.False(x)`\n",
    "* `self.assert.Is(a, b)`\n",
    "* `self.assert.IsNot(a,b)`\n",
    "* `self.assert.IsNone(a, b)`\n",
    "* `self.assert.IsNotNone(a, b)`\n",
    "* `self.assert.In(a, b)`\n",
    "* `self.assert.NotIn(a, b)`\n",
    "* `self.assert.IsInstance(a, b)`\n",
    "* `self.assert.IsNotInstance(a, b)`\n",
    "* `self.assert.Raises(exc, fun, *args, **kwds)`"
   ]
  },
  {
   "cell_type": "code",
   "execution_count": 2,
   "id": "ef597049",
   "metadata": {},
   "outputs": [
    {
     "name": "stderr",
     "output_type": "stream",
     "text": [
      "test_assertion (__main__.TestExample) ... FAIL\n",
      "\n",
      "======================================================================\n",
      "FAIL: test_assertion (__main__.TestExample)\n",
      "----------------------------------------------------------------------\n",
      "Traceback (most recent call last):\n",
      "  File \"/tmp/ipykernel_35649/3141501591.py\", line 6, in test_assertion\n",
      "    self.assertNotAlmostEqual(2, 2)\n",
      "AssertionError: 2 == 2 within 7 places\n",
      "\n",
      "----------------------------------------------------------------------\n",
      "Ran 1 test in 0.002s\n",
      "\n",
      "FAILED (failures=1)\n"
     ]
    },
    {
     "data": {
      "text/plain": [
       "<unittest.main.TestProgram at 0x7a84427458d0>"
      ]
     },
     "execution_count": 2,
     "metadata": {},
     "output_type": "execute_result"
    }
   ],
   "source": [
    "import unittest\n",
    "\n",
    "class TestExample(unittest.TestCase):\n",
    "\n",
    "    def test_assertion(self):\n",
    "        self.assertNotAlmostEqual(2, 2)\n",
    "\n",
    "unittest.main(argv=[''], verbosity=2, exit=False)"
   ]
  },
  {
   "cell_type": "markdown",
   "id": "4828de62",
   "metadata": {},
   "source": [
    "## Welcome to PyTest"
   ]
  },
  {
   "cell_type": "markdown",
   "id": "bddb6d41",
   "metadata": {},
   "source": [
    "The land where everything is simple and practical:\n",
    "* A command-line tool, but also a framework.\n",
    "* Does not force one to use the framework.\n",
    "* No classes required.\n",
    "* Can run functions.\n",
    "* Allows simple `assert` calls in tests:\n",
    "    * Operators: `==`, `!=`, `>`...\n",
    "* Ultra-rich outout, which can be turned off.\n",
    "\n",
    "*`PyTest` makes you want to actually write tests."
   ]
  },
  {
   "cell_type": "code",
   "execution_count": 6,
   "id": "a147d145",
   "metadata": {},
   "outputs": [
    {
     "ename": "AssertionError",
     "evalue": "this thing failed",
     "output_type": "error",
     "traceback": [
      "\u001b[0;31m---------------------------------------------------------------------------\u001b[0m",
      "\u001b[0;31mAssertionError\u001b[0m                            Traceback (most recent call last)",
      "Cell \u001b[0;32mIn[6], line 1\u001b[0m\n\u001b[0;32m----> 1\u001b[0m \u001b[38;5;28;01massert\u001b[39;00m \u001b[38;5;124m\"\u001b[39m\u001b[38;5;124mthis string is long\u001b[39m\u001b[38;5;124m\"\u001b[39m \u001b[38;5;241m==\u001b[39m \u001b[38;5;124m\"\u001b[39m\u001b[38;5;124mthis string is Long\u001b[39m\u001b[38;5;124m\"\u001b[39m, \u001b[38;5;124m\"\u001b[39m\u001b[38;5;124mthis thing failed\u001b[39m\u001b[38;5;124m\"\u001b[39m\n",
      "\u001b[0;31mAssertionError\u001b[0m: this thing failed"
     ]
    }
   ],
   "source": [
    "assert \"this string is long\" == \"this string is Long\", \"this thing failed\""
   ]
  },
  {
   "cell_type": "markdown",
   "id": "f54fdc33",
   "metadata": {},
   "source": [
    "What happens with plain `asserts`?"
   ]
  },
  {
   "cell_type": "code",
   "execution_count": 8,
   "id": "6ecdc938",
   "metadata": {},
   "outputs": [
    {
     "name": "stdout",
     "output_type": "stream",
     "text": [
      "-O     : remove assert and __debug__-dependent statements; add .opt-1 before\n"
     ]
    }
   ],
   "source": [
    "!python3 --help | grep \"assert\""
   ]
  },
  {
   "cell_type": "markdown",
   "id": "8b204416",
   "metadata": {},
   "source": [
    "### Tests can be functions or classes"
   ]
  },
  {
   "cell_type": "code",
   "execution_count": 9,
   "id": "bb5a0c04",
   "metadata": {},
   "outputs": [],
   "source": [
    "def test_my_function():\n",
    "    assert 1 == 1"
   ]
  },
  {
   "cell_type": "markdown",
   "id": "7bdbbf17",
   "metadata": {},
   "source": [
    "Classes do not need inheritance:"
   ]
  },
  {
   "cell_type": "code",
   "execution_count": 10,
   "id": "d9f5c285",
   "metadata": {},
   "outputs": [],
   "source": [
    "class TestMyClass:\n",
    "\n",
    "    def test_my_method(self):\n",
    "        assert 1 == 1"
   ]
  },
  {
   "cell_type": "markdown",
   "id": "9b984dc2",
   "metadata": {},
   "source": [
    "### Test layouts"
   ]
  },
  {
   "cell_type": "markdown",
   "id": "bede5d2d",
   "metadata": {},
   "source": [
    "* How do you add new test or place them in a project?\n",
    "* What if there are not test directories yet?\n",
    "* What about running them automatically?"
   ]
  },
  {
   "cell_type": "markdown",
   "id": "8dccf604",
   "metadata": {},
   "source": [
    "#### Directory layout starts with `tests`"
   ]
  },
  {
   "cell_type": "markdown",
   "id": "730948ad",
   "metadata": {},
   "source": [
    "* From `tests` you can add anything like `unit`, `functional` or other meaningful names like `database`.\n",
    "* Files need to be prefixed with `test_`.\n",
    "* Test functions need to be `test_`.\n",
    "* Test classes need to be prefixed with `Test`."
   ]
  },
  {
   "cell_type": "markdown",
   "id": "44df665e",
   "metadata": {},
   "source": [
    "Inspect the files arount the [barebones project](https://github.com/alfredodeza/barebones). It is a simple project that sorts and prettifies JSON to `stdout` or in a file. The sample structure and layout helps visualize how and where to put files:\n",
    "\n",
    "```text\n",
    "barebones\n",
    "├── bin\n",
    "│ └── jformat\n",
    "├── examples\n",
    "│ └── example.json\n",
    "├── jformat\n",
    "│ ├── __init__.py\n",
    "│ ├── main.py\n",
    "│ └── reformat.py\n",
    "├── tests\n",
    "│ ├── __init__\n",
    "│ ├── test_main.py\n",
    "│ └── test_verify_output.py\n",
    "├── LICENSE\n",
    "├── setup.py\n",
    "└── README.md\n",
    "\n",
    "4 directories, 10 files\n",
    "```"
   ]
  },
  {
   "cell_type": "markdown",
   "id": "97222e2a",
   "metadata": {},
   "source": [
    "## Testing with `PyTest`"
   ]
  },
  {
   "cell_type": "markdown",
   "id": "8539cf76",
   "metadata": {},
   "source": [
    "As with any Python project, create a virtual enviroment:\n",
    "```bash\n",
    "$ python -m venv venv\n",
    "$ source venv/bin/activate\n",
    "```\n",
    "\n",
    "And then install `PyTest`:\n",
    "```bash\n",
    "$ pip install pytest\n",
    "```\n",
    "\n",
    "Add it to a `requirements.txt` file so you do not forget to install next time."
   ]
  },
  {
   "cell_type": "markdown",
   "id": "57101963",
   "metadata": {},
   "source": [
    "### Test can be functions or classes"
   ]
  },
  {
   "cell_type": "code",
   "execution_count": 11,
   "id": "746b18f9",
   "metadata": {},
   "outputs": [],
   "source": [
    "def test_my_function():\n",
    "    assert 1 == 1"
   ]
  },
  {
   "cell_type": "markdown",
   "id": "e3097fce",
   "metadata": {},
   "source": [
    "Classes do not need inheritance:"
   ]
  },
  {
   "cell_type": "code",
   "execution_count": 12,
   "id": "38786f29",
   "metadata": {},
   "outputs": [],
   "source": [
    "class TestMyClass:\n",
    "\n",
    "    def test_my_method(self):\n",
    "        assert 1 == 1"
   ]
  },
  {
   "cell_type": "markdown",
   "id": "6409866e",
   "metadata": {},
   "source": [
    "### Hands-on installing and running"
   ]
  },
  {
   "cell_type": "markdown",
   "id": "23c2ed5b",
   "metadata": {},
   "source": [
    "For the next operations, switch to the terminal. After the `PyTest` installation, change directories to the `examples` directory to run `pytest`.\n",
    "\n",
    "In that directory you will have a single working test file where you can run tests..\n",
    "\n",
    "Looking for more examples? Inspect the files around [barebones project](https://github.com/alfredodeza/barebones). It is a simple project that sorts and prettifies JSON to `stdout` or in a file."
   ]
  },
  {
   "cell_type": "markdown",
   "id": "8391bf8c",
   "metadata": {},
   "source": []
  }
 ],
 "metadata": {
  "kernelspec": {
   "display_name": "Python 3",
   "language": "python",
   "name": "python3"
  },
  "language_info": {
   "codemirror_mode": {
    "name": "ipython",
    "version": 3
   },
   "file_extension": ".py",
   "mimetype": "text/x-python",
   "name": "python",
   "nbconvert_exporter": "python",
   "pygments_lexer": "ipython3",
   "version": "3.10.12"
  }
 },
 "nbformat": 4,
 "nbformat_minor": 5
}
